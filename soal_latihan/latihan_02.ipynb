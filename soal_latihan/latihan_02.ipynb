{
 "cells": [
  {
   "attachments": {
    "image.png": {
     "image/png": "[encoded data removed]"
    }
   },
   "cell_type": "markdown",
   "id": "89985c43",
   "metadata": {},
   "source": [
    "🔁 Soal 1 – zip (Gabungan & Hitung)\n",
    "Diberikan:\n",
    "\n",
    "\n",
    "produk = ['Buku', 'Pulpen', 'Penghapus']\n",
    "\n",
    "harga = [10000, 2000, 3000]\n",
    "\n",
    "jumlah = [2, 5, 3]\n",
    "\n",
    "\n",
    "Gunakan zip untuk membuat list tuple: (nama_produk, total_harga)\n",
    "\n",
    "Contoh output:\n",
    "\n",
    "[('Buku', 20000), ('Pulpen', 10000), ('Penghapus', 9000)]\n",
    "\n",
    "\n",
    "===\n",
    "\n",
    "\n",
    "⚙️ Soal 2 – map + lambda (Konversi suhu)\n",
    "\n",
    "Diberikan suhu dalam Celsius:\n",
    "\n",
    "\n",
    "celsius = [0, 25, 30, 40]\n",
    "\n",
    "\n",
    "Gunakan map dan lambda untuk mengubahnya ke Fahrenheit:\n",
    "\n",
    "\n",
    "![image.png](attachment:image.png)\n",
    "\n",
    "Output:\n",
    "\n",
    "\n",
    "[32.0, 77.0, 86.0, 104.0]\n",
    "\n",
    "\n",
    "⚡ Soal 3 – lambda + filter genap\n",
    "\n",
    "Buat list angka dari 1 sampai 20.\n",
    "\n",
    "Gunakan filter() dan lambda untuk mengambil angka kelipatan 3 dan genap.\n",
    "\n",
    "\n",
    "\n",
    "Output:\n",
    "\n",
    "[6, 12, 18]\n",
    "\n",
    "\n",
    "🔢 Soal 4 – enumerate (Cetak pilihan kuis)\n",
    "\n",
    "Diberikan list:\n",
    "\n",
    "\n",
    "opsi = ['Python', 'Java', 'C++', 'Go']\n",
    "Cetak pilihan seperti:\n",
    "\n",
    "\n",
    "A. Python\n",
    "B. Java\n",
    "C. C++\n",
    "D. Go\n",
    "(Hint: pakai chr(65 + index) → 65 = 'A')"
   ]
  },
  {
   "cell_type": "markdown",
   "id": "c5742e69",
   "metadata": {},
   "source": []
  },
  {
   "cell_type": "markdown",
   "id": "6e4875cb",
   "metadata": {},
   "source": []
  }
 ],
 "metadata": {
  "kernelspec": {
   "display_name": "Python 3",
   "language": "python",
   "name": "python3"
  },
  "language_info": {
   "name": "python",
   "version": "3.9.12"
  }
 },
 "nbformat": 4,
 "nbformat_minor": 5
}

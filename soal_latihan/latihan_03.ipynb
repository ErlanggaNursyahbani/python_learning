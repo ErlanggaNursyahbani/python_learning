{
 "cells": [
  {
   "cell_type": "markdown",
   "id": "cb3c22b6",
   "metadata": {},
   "source": [
    "### Soal Latihan 3\n",
    "\n",
    "```python\n",
    "df_latihan = pd.DataFrame({\n",
    "    'siswa': ['Andi', 'Budi', 'Cici', 'Andi', 'Budi'],\n",
    "    'nilai': [80, 85, 90, 70, 75]\n",
    "})\n",
    "```\n",
    "\n",
    "1. Tambahkan kolom `kategori` berdasarkan aturan:\n",
    "   - `A` jika nilai ≥ 85\n",
    "   - `B` jika nilai 70–84\n",
    "   - `C` jika < 70\n",
    "\n",
    "2. Tambahkan kolom `nilai_x3` yang merupakan nilai × 3\n",
    "\n",
    "3. Hitung rata-rata dan jumlah nilai tiap siswa\n"
   ]
  },
  {
   "cell_type": "code",
   "execution_count": 24,
   "id": "8eacb27a",
   "metadata": {},
   "outputs": [
    {
     "name": "stdout",
     "output_type": "stream",
     "text": [
      "rata rata nilai siswa adalah : 80.0\n"
     ]
    },
    {
     "data": {
      "text/html": [
       "<div>\n",
       "<style scoped>\n",
       "    .dataframe tbody tr th:only-of-type {\n",
       "        vertical-align: middle;\n",
       "    }\n",
       "\n",
       "    .dataframe tbody tr th {\n",
       "        vertical-align: top;\n",
       "    }\n",
       "\n",
       "    .dataframe thead th {\n",
       "        text-align: right;\n",
       "    }\n",
       "</style>\n",
       "<table border=\"1\" class=\"dataframe\">\n",
       "  <thead>\n",
       "    <tr style=\"text-align: right;\">\n",
       "      <th></th>\n",
       "      <th>siswa</th>\n",
       "      <th>nilai</th>\n",
       "      <th>kategori</th>\n",
       "      <th>nilai_x3</th>\n",
       "    </tr>\n",
       "  </thead>\n",
       "  <tbody>\n",
       "    <tr>\n",
       "      <th>0</th>\n",
       "      <td>Andi</td>\n",
       "      <td>80</td>\n",
       "      <td>B</td>\n",
       "      <td>240</td>\n",
       "    </tr>\n",
       "    <tr>\n",
       "      <th>1</th>\n",
       "      <td>Budi</td>\n",
       "      <td>85</td>\n",
       "      <td>A</td>\n",
       "      <td>255</td>\n",
       "    </tr>\n",
       "    <tr>\n",
       "      <th>2</th>\n",
       "      <td>Cici</td>\n",
       "      <td>90</td>\n",
       "      <td>A</td>\n",
       "      <td>270</td>\n",
       "    </tr>\n",
       "    <tr>\n",
       "      <th>3</th>\n",
       "      <td>Andi</td>\n",
       "      <td>70</td>\n",
       "      <td>B</td>\n",
       "      <td>210</td>\n",
       "    </tr>\n",
       "    <tr>\n",
       "      <th>4</th>\n",
       "      <td>Budi</td>\n",
       "      <td>75</td>\n",
       "      <td>B</td>\n",
       "      <td>225</td>\n",
       "    </tr>\n",
       "  </tbody>\n",
       "</table>\n",
       "</div>"
      ],
      "text/plain": [
       "  siswa  nilai kategori  nilai_x3\n",
       "0  Andi     80        B       240\n",
       "1  Budi     85        A       255\n",
       "2  Cici     90        A       270\n",
       "3  Andi     70        B       210\n",
       "4  Budi     75        B       225"
      ]
     },
     "execution_count": 24,
     "metadata": {},
     "output_type": "execute_result"
    }
   ],
   "source": [
    "import pandas as pd\n",
    "\n",
    "df = pd.DataFrame({\n",
    "    'siswa': ['Andi', 'Budi', 'Cici', 'Andi', 'Budi'],\n",
    "    'nilai': [80, 85, 90, 70, 75]\n",
    "})\n",
    "\n",
    "df['kategori'] = df['nilai'].apply(lambda x: 'A' if x >= 85 else ('B' if x >= 70 else 'C'))\n",
    "df['nilai_x3'] = df['nilai'].map(lambda x: x * 3)\n",
    "rata_rata = df['nilai'].mean()\n",
    "\n",
    "print(f'rata rata nilai siswa adalah : {rata_rata}')\n",
    "\n",
    "df"
   ]
  },
  {
   "cell_type": "code",
   "execution_count": null,
   "id": "172fba93",
   "metadata": {},
   "outputs": [],
   "source": []
  }
 ],
 "metadata": {
  "kernelspec": {
   "display_name": "Python 3",
   "language": "python",
   "name": "python3"
  },
  "language_info": {
   "codemirror_mode": {
    "name": "ipython",
    "version": 3
   },
   "file_extension": ".py",
   "mimetype": "text/x-python",
   "name": "python",
   "nbconvert_exporter": "python",
   "pygments_lexer": "ipython3",
   "version": "3.9.12"
  }
 },
 "nbformat": 4,
 "nbformat_minor": 5
}

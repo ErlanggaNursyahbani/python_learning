{
 "cells": [
  {
   "cell_type": "markdown",
   "id": "e3e72412",
   "metadata": {},
   "source": [
    "🎯 LATIHAN PRAKTIK – HARI 1\n",
    "🔹 1. List:\n",
    "Soal:\n",
    "Buat list buah = [\"apel\", \"jeruk\", \"apel\", \"mangga\"].\n",
    "\n",
    "Print jumlah elemen.\n",
    "\n",
    "Tambahkan \"pisang\".\n",
    "\n",
    "Hapus satu \"apel\".\n",
    "\n",
    "Tampilkan elemen terakhir.\n",
    "\n",
    "🔹 2. Tuple:\n",
    "Soal:\n",
    "Buat tuple angka = (1, 2, 3, 4)\n",
    "\n",
    "Coba akses elemen ke-2.\n",
    "\n",
    "Coba ubah elemen ke-2 jadi 5. Apa yang terjadi?\n",
    "\n",
    "🔹 3. Set:\n",
    "Soal:\n",
    "Buat set angka_unik = {1, 2, 2, 3, 4, 4}\n",
    "\n",
    "Print hasilnya.\n",
    "\n",
    "Tambahkan angka 5\n",
    "\n",
    "Apakah bisa menambahkan elemen yang sudah ada?\n",
    "\n",
    "🔹 4. Dictionary:\n",
    "Soal:\n",
    "Buat dict siswa = {\"nama\": \"Angga\", \"umur\": 21}\n",
    "\n",
    "Tambahkan key \"nilai\": 90\n",
    "\n",
    "Ubah umur jadi 22\n",
    "\n",
    "Akses nama dan print"
   ]
  }
 ],
 "metadata": {
  "kernelspec": {
   "display_name": "Python 3",
   "language": "python",
   "name": "python3"
  },
  "language_info": {
   "name": "python",
   "version": "3.9.12"
  }
 },
 "nbformat": 4,
 "nbformat_minor": 5
}

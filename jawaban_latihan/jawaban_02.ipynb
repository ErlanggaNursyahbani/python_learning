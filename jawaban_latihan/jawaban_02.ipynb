{
 "cells": [
  {
   "cell_type": "markdown",
   "id": "24de2b2c",
   "metadata": {},
   "source": [
    "🔁 Soal 1 – zip (Gabungan & Hitung)\n",
    "Diberikan:\n",
    "\n",
    "\n",
    "produk = ['Buku', 'Pulpen', 'Penghapus']\n",
    "\n",
    "harga = [10000, 2000, 3000]\n",
    "\n",
    "jumlah = [2, 5, 3]\n",
    "\n",
    "\n",
    "Gunakan zip untuk membuat list tuple: (nama_produk, total_harga)\n",
    "\n",
    "Contoh output:\n",
    "\n",
    "[('Buku', 20000), ('Pulpen', 10000), ('Penghapus', 9000)]\n"
   ]
  },
  {
   "cell_type": "markdown",
   "id": "9eabcceb",
   "metadata": {},
   "source": [
    "## Jawab : "
   ]
  },
  {
   "cell_type": "code",
   "execution_count": 9,
   "id": "df5a523a",
   "metadata": {},
   "outputs": [
    {
     "name": "stdout",
     "output_type": "stream",
     "text": [
      "[('Buku', 20000), ('Pulpen', 10000), ('Penghapus', 9000)]\n"
     ]
    }
   ],
   "source": [
    "produk = ['Buku','Pulpen','Penghapus']\n",
    "harga = [10000,2000,3000]\n",
    "jumlah = [2, 5, 3]\n",
    "\n",
    "total_harga = list(                         # kita buat jadi 1 list dulu\n",
    "    map(lambda x,y: x*y, harga,jumlah)      # kemudian iterasikan semua isinya dengan map, pakai fungsi lambda buat operasinya\n",
    "    )\n",
    "\n",
    "x = zip(produk, total_harga)                # masukkan list yang udah dibuat setelah diproses map + lambda pakai zip\n",
    "print(list(x))"
   ]
  },
  {
   "cell_type": "markdown",
   "id": "dfa972ac",
   "metadata": {},
   "source": [
    "⚙️ Soal 2 – map + lambda (Konversi suhu)\n",
    "\n",
    "\n",
    "Diberikan suhu dalam Celsius:\n",
    "\n",
    "\n",
    "celsius = [0, 25, 30, 40]\n",
    "\n",
    "\n",
    "Gunakan map dan lambda untuk mengubahnya ke Fahrenheit:\n",
    "\n",
    "F = (C * 9/5) + 32. \n",
    "\n",
    "Output:\n",
    "\n",
    "\n",
    "[32.0, 77.0, 86.0, 104.0]"
   ]
  },
  {
   "cell_type": "code",
   "execution_count": 16,
   "id": "8086b37f",
   "metadata": {},
   "outputs": [
    {
     "name": "stdout",
     "output_type": "stream",
     "text": [
      "[32.0, 77.0, 86.0, 104.0]\n"
     ]
    }
   ],
   "source": [
    "c = [0, 25, 30, 40]\n",
    "f = list(map(lambda x: (x*9/5) + 32, c))\n",
    "\n",
    "print(f)"
   ]
  },
  {
   "cell_type": "code",
   "execution_count": null,
   "id": "e16ba627",
   "metadata": {},
   "outputs": [],
   "source": []
  }
 ],
 "metadata": {
  "kernelspec": {
   "display_name": "Python 3",
   "language": "python",
   "name": "python3"
  },
  "language_info": {
   "codemirror_mode": {
    "name": "ipython",
    "version": 3
   },
   "file_extension": ".py",
   "mimetype": "text/x-python",
   "name": "python",
   "nbconvert_exporter": "python",
   "pygments_lexer": "ipython3",
   "version": "3.9.12"
  }
 },
 "nbformat": 4,
 "nbformat_minor": 5
}

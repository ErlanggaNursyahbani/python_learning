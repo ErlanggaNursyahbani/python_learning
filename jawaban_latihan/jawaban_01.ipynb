{
 "cells": [
  {
   "cell_type": "markdown",
   "id": "ac1cb87d",
   "metadata": {},
   "source": [
    "🎯 LATIHAN PRAKTIK – HARI 1\n",
    "🔹 1. List:\n",
    "Soal:\n",
    "Buat list buah = [\"apel\", \"jeruk\", \"apel\", \"mangga\"].\n",
    "\n",
    "Print jumlah elemen.\n",
    "\n",
    "Tambahkan \"pisang\".\n",
    "\n",
    "Hapus satu \"apel\".\n",
    "\n",
    "Tampilkan elemen terakhir.\n"
   ]
  },
  {
   "cell_type": "code",
   "execution_count": null,
   "id": "f2d7e17b",
   "metadata": {},
   "outputs": [
    {
     "name": "stdout",
     "output_type": "stream",
     "text": [
      "Data awal : ['apel', 'jeruk', 'apel', 'mangga']\n",
      "Ukuran list : 4\n",
      "Setelah ditambahkan Pisang : ['apel', 'jeruk', 'apel', 'mangga', 'Pisang']\n",
      "Remove apel (hanya 1) : ['jeruk', 'apel', 'mangga', 'Pisang']\n",
      "Panggil yang terakhir : Pisang\n"
     ]
    }
   ],
   "source": [
    "buah = [\"apel\", \"jeruk\",\"apel\",\"mangga\"]\n",
    "\n",
    "print(f\"Data awal : {buah}\")\n",
    "\n",
    "print(f\"Ukuran list : {len(buah)}\")\n",
    "\n",
    "buah.append('Pisang')\n",
    "print(f\"Setelah ditambahkan Pisang : {buah}\")\n",
    "\n",
    "buah.remove('apel')\n",
    "print(f\"Remove apel (hanya 1) : {buah}\")\n",
    "\n",
    "print(f\"Panggil yang terakhir : {buah[-1]}\")"
   ]
  },
  {
   "cell_type": "markdown",
   "id": "101e5194",
   "metadata": {},
   "source": [
    "🔹 2. Tuple:\n",
    "Soal:\n",
    "Buat tuple angka = (1, 2, 3, 4)\n",
    "\n",
    "Coba akses elemen ke-2.\n",
    "\n",
    "Coba ubah elemen ke-2 jadi 5. Apa yang terjadi?"
   ]
  },
  {
   "cell_type": "code",
   "execution_count": null,
   "id": "9c114104",
   "metadata": {},
   "outputs": [
    {
     "name": "stdout",
     "output_type": "stream",
     "text": [
      "Seluruh isi tuple : (1, 2, 3, 4)\n",
      "Memanggil elemen ke-2 : 2\n"
     ]
    }
   ],
   "source": [
    "angka = (1,2,3,4)\n",
    "\n",
    "print(f\"Seluruh isi tuple : {angka}\")\n",
    "\n",
    "print(f\"Memanggil elemen ke-2 : {angka[1]}\")\n",
    "# angka[1] = 5 ==> Will Error."
   ]
  },
  {
   "cell_type": "markdown",
   "id": "ec5315f3",
   "metadata": {},
   "source": [
    "3. Set:\n",
    "Soal:\n",
    "Buat set angka_unik = {1, 2, 2, 3, 4, 4}\n",
    "\n",
    "Print hasilnya.\n",
    "\n",
    "Tambahkan angka 5\n",
    "\n",
    "Apakah bisa menambahkan elemen yang sudah ada?"
   ]
  },
  {
   "cell_type": "code",
   "execution_count": 29,
   "id": "fcc127f4",
   "metadata": {},
   "outputs": [
    {
     "name": "stdout",
     "output_type": "stream",
     "text": [
      "Print data awal : {1, 2, 3, 4}\n",
      "setelah add : {1, 2, 3, 4, 5}\n",
      "apakah bisa menambahkan elemen yang ada ? \n",
      "Jawab : YA Bisa. \n"
     ]
    }
   ],
   "source": [
    "angka_unik = {1, 2, 2, 3, 4, 4}\n",
    "print(f\"Print data awal : {angka_unik}\")\n",
    "\n",
    "angka_unik.add(5)\n",
    "print(f\"setelah add : {angka_unik}\")\n",
    "\n",
    "print(f\"apakah bisa menambahkan elemen yang ada ? \")\n",
    "print(f\"Jawab : YA Bisa. \")\n"
   ]
  },
  {
   "cell_type": "markdown",
   "id": "9fb07d8d",
   "metadata": {},
   "source": [
    "🔹 4. Dictionary:\n",
    "Soal:\n",
    "Buat dict siswa = {\"nama\": \"Angga\", \"umur\": 21}\n",
    "\n",
    "Tambahkan key \"nilai\": 90\n",
    "\n",
    "Ubah umur jadi 22\n",
    "\n",
    "Akses nama dan print"
   ]
  },
  {
   "cell_type": "code",
   "execution_count": 42,
   "id": "ac68397e",
   "metadata": {},
   "outputs": [
    {
     "name": "stdout",
     "output_type": "stream",
     "text": [
      "Data siswa : {'nama': 'Angga', 'umur': 21}\n",
      "Data siswa setelah penambahan key: {'nama': 'Angga', 'umur': 21, 'nilai': 90}\n",
      "Data siswa setelah perubahan value: {'nama': 'Angga', 'umur': 22, 'nilai': 90}\n",
      "Akses key tertentu (nama): Angga\n"
     ]
    }
   ],
   "source": [
    "siswa = {\n",
    "    \"nama\":\"Angga\",\n",
    "    \"umur\":21\n",
    "    }\n",
    "\n",
    "print(f\"Data siswa : {siswa}\")\n",
    "\n",
    "siswa[\"nilai\"] = 90\n",
    "print(f\"Data siswa setelah penambahan key: {siswa}\")\n",
    "\n",
    "siswa[\"umur\"] = 22\n",
    "print(f\"Data siswa setelah perubahan value: {siswa}\")\n",
    "\n",
    "\n",
    "print(f\"Akses key tertentu (nama): {siswa['nama']}\")"
   ]
  },
  {
   "cell_type": "markdown",
   "id": "c24101d8",
   "metadata": {},
   "source": []
  },
  {
   "cell_type": "markdown",
   "id": "d0ea107e",
   "metadata": {},
   "source": [
    "Buat dict dari 2 list : \n",
    "keys = [\"nama\", \"umur\", \"alamat\"]\n",
    "values = [\"Erlangga\", 22, \"Jakarta Selatan\"]"
   ]
  },
  {
   "cell_type": "code",
   "execution_count": 46,
   "id": "b5ef67aa",
   "metadata": {},
   "outputs": [
    {
     "name": "stdout",
     "output_type": "stream",
     "text": [
      "keys : ['nama', 'umur', 'alamat']\n",
      "values : ['Erlangga', 22, 'Jakarta Selatan']\n",
      "setelah jadi dict : {'nama': 'Erlangga', 'umur': 22, 'alamat': 'Jakarta Selatan'}\n"
     ]
    }
   ],
   "source": [
    "keys = [\"nama\", \"umur\", \"alamat\"]\n",
    "values = [\"Erlangga\", 22, \"Jakarta Selatan\"]\n",
    "data = dict(zip(keys,values))\n",
    "\n",
    "print(f\"keys : {keys}\")\n",
    "print(f\"values : {values}\")\n",
    "print(f\"setelah jadi dict : {data}\")"
   ]
  }
 ],
 "metadata": {
  "kernelspec": {
   "display_name": "Python 3",
   "language": "python",
   "name": "python3"
  },
  "language_info": {
   "codemirror_mode": {
    "name": "ipython",
    "version": 3
   },
   "file_extension": ".py",
   "mimetype": "text/x-python",
   "name": "python",
   "nbconvert_exporter": "python",
   "pygments_lexer": "ipython3",
   "version": "3.9.12"
  }
 },
 "nbformat": 4,
 "nbformat_minor": 5
}

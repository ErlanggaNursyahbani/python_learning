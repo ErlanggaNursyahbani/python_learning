{
 "cells": [
  {
   "cell_type": "markdown",
   "id": "d7ef1ca0",
   "metadata": {},
   "source": [
    "# Day 3 - Pandas `apply()`, `groupby()`, dan `lambda`"
   ]
  },
  {
   "cell_type": "markdown",
   "id": "97b91156",
   "metadata": {},
   "source": [
    "\n",
    "Notebook ini dirancang untuk membantumu memahami tiga konsep penting dalam manipulasi data menggunakan Pandas:\n",
    "\n",
    "- `apply()`: untuk menerapkan fungsi ke kolom atau baris\n",
    "- `lambda`: fungsi anonim yang sering dipakai dalam `apply`\n",
    "- `groupby() + agg()`: untuk agregasi data berdasarkan kategori\n",
    "\n",
    "Kita akan belajar teori singkat, contoh kode, dan latihan praktik.\n"
   ]
  },
  {
   "cell_type": "markdown",
   "id": "58ccb8c5",
   "metadata": {},
   "source": [
    "## 1. Fungsi `apply()`"
   ]
  },
  {
   "cell_type": "code",
   "execution_count": 13,
   "id": "c37cf8be",
   "metadata": {},
   "outputs": [
    {
     "data": {
      "text/html": [
       "<div>\n",
       "<style scoped>\n",
       "    .dataframe tbody tr th:only-of-type {\n",
       "        vertical-align: middle;\n",
       "    }\n",
       "\n",
       "    .dataframe tbody tr th {\n",
       "        vertical-align: top;\n",
       "    }\n",
       "\n",
       "    .dataframe thead th {\n",
       "        text-align: right;\n",
       "    }\n",
       "</style>\n",
       "<table border=\"1\" class=\"dataframe\">\n",
       "  <thead>\n",
       "    <tr style=\"text-align: right;\">\n",
       "      <th></th>\n",
       "      <th>x</th>\n",
       "      <th>y</th>\n",
       "      <th>x2</th>\n",
       "      <th>y2</th>\n",
       "      <th>x + y</th>\n",
       "    </tr>\n",
       "  </thead>\n",
       "  <tbody>\n",
       "    <tr>\n",
       "      <th>0</th>\n",
       "      <td>1</td>\n",
       "      <td>4</td>\n",
       "      <td>1</td>\n",
       "      <td>16</td>\n",
       "      <td>5</td>\n",
       "    </tr>\n",
       "    <tr>\n",
       "      <th>1</th>\n",
       "      <td>2</td>\n",
       "      <td>5</td>\n",
       "      <td>4</td>\n",
       "      <td>25</td>\n",
       "      <td>7</td>\n",
       "    </tr>\n",
       "    <tr>\n",
       "      <th>2</th>\n",
       "      <td>3</td>\n",
       "      <td>6</td>\n",
       "      <td>9</td>\n",
       "      <td>36</td>\n",
       "      <td>9</td>\n",
       "    </tr>\n",
       "  </tbody>\n",
       "</table>\n",
       "</div>"
      ],
      "text/plain": [
       "   x  y  x2  y2  x + y\n",
       "0  1  4   1  16      5\n",
       "1  2  5   4  25      7\n",
       "2  3  6   9  36      9"
      ]
     },
     "execution_count": 13,
     "metadata": {},
     "output_type": "execute_result"
    }
   ],
   "source": [
    "import pandas as pd\n",
    "df = pd.DataFrame({\n",
    "    'x': [1, 2, 3],\n",
    "    'y': [4, 5, 6]\n",
    "})\n",
    "\n",
    "# Pakai apply ke baris → axis=1\n",
    "df[['x2', 'y2']] = df[['x', 'y']].apply(lambda col: col ** 2)\n",
    "df['x + y'] = df.apply(lambda baris: (baris['x'] + baris['y']), axis=1)\n",
    "\n",
    "df\n",
    "\n",
    "# nilai df['kuadrat'] diambil dari df['angka'] yang dimasukkan fungsi apply lambda x: x**2\n",
    "# jadi setiap entri didalam kolom angka nilainya akan di kuadratkan, kemudian dimasukkan ke kolom kuadrat\n"
   ]
  },
  {
   "cell_type": "code",
   "execution_count": 14,
   "id": "74d5c2a2",
   "metadata": {},
   "outputs": [
    {
     "name": "stdout",
     "output_type": "stream",
     "text": [
      "   A  B  C\n",
      "0  1  4  5\n",
      "1  2  5  7\n",
      "2  3  6  9\n"
     ]
    }
   ],
   "source": [
    "import pandas as pd\n",
    "\n",
    "df = pd.DataFrame({\n",
    "    'A': [1, 2, 3],\n",
    "    'B': [4, 5, 6]\n",
    "})\n",
    "\n",
    "# map cuma bisa dipakai untuk Series, dan cuma fungsi 1 input (nilai di kolom itu sendiri)\n",
    "# contoh, ini TIDAK BISA:\n",
    "# df['C'] = df['A'].map(lambda x: x + df['B'])  # ERROR\n",
    "\n",
    "# apply bisa pakai axis=1, sehingga fungsi bisa akses seluruh baris\n",
    "df['C'] = df.apply(lambda row: row['A'] + row['B'], axis=1)\n",
    "\n",
    "print(df)"
   ]
  },
  {
   "cell_type": "markdown",
   "id": "4c264dc3",
   "metadata": {},
   "source": [
    "## 2. Fungsi `lambda`"
   ]
  },
  {
   "cell_type": "code",
   "execution_count": 15,
   "id": "fc2d3d6b",
   "metadata": {},
   "outputs": [
    {
     "data": {
      "text/plain": [
       "16"
      ]
     },
     "execution_count": 15,
     "metadata": {},
     "output_type": "execute_result"
    }
   ],
   "source": [
    "# Lambda adalah fungsi anonim\n",
    "# Bentuk: lambda argumen: ekspresi\n",
    "\n",
    "# Contoh\n",
    "kuadrat = lambda x: x**2\n",
    "kuadrat(4)"
   ]
  },
  {
   "cell_type": "markdown",
   "id": "e35f8cd9",
   "metadata": {},
   "source": [
    "## 3. `groupby()` dan `agg()`"
   ]
  },
  {
   "cell_type": "code",
   "execution_count": null,
   "id": "a05cc8d3",
   "metadata": {},
   "outputs": [
    {
     "name": "stdout",
     "output_type": "stream",
     "text": [
      "          max  min       mean  count  sum\n",
      "kategori                                 \n",
      "A          80   70  75.000000      2  150\n",
      "B          90   75  82.500000      2  165\n",
      "C          85   85  85.000000      1   85\n",
      "D          40   30  33.333333      3  100\n",
      "kategori\n",
      "A    2\n",
      "B    2\n",
      "C    1\n",
      "D    3\n",
      "Name: nilai, dtype: int64\n"
     ]
    }
   ],
   "source": [
    "df = pd.DataFrame({\n",
    "    'kategori': ['A', 'B', 'A', 'B', 'C','D','D','D'],\n",
    "    'nilai': [80, 90, 70, 75, 85,30,30,40]\n",
    "})\n",
    "\n",
    "hasil_count = df.groupby('kategori')['nilai'].count()\n",
    "\n",
    "hasil = df.groupby('kategori')['nilai'].agg(['max','min', 'mean', 'count','sum'])\n",
    "\n",
    "print(hasil)\n",
    "print(hasil_count)\n",
    "\n",
    "# 'sum' — jumlah total\n",
    "# 'mean' — rata-rata\n",
    "# 'median' — nilai tengah\n",
    "# 'min' — nilai minimum\n",
    "# 'max' — nilai maksimum\n",
    "# 'count' — jumlah data (non-null)\n",
    "# 'std' — standar deviasi\n",
    "# 'var' — variansi\n",
    "# 'prod' — hasil perkalian semua nilai\n",
    "# 'first' — nilai pertama dalam grup\n",
    "# 'last' — nilai terakhir dalam grup\n",
    "# 'mad' — mean absolute deviation (rata-rata deviasi absolut)\n",
    "# 'sem' — standar error mean\n",
    "\n",
    "# Selain itu, kamu juga bisa pakai:\n",
    "# Fungsi built-in Python seperti max(), min(), len(), sum(), max(), min()\n",
    "# Fungsi custom (lambda atau fungsi yang kamu buat sendiri)\n"
   ]
  },
  {
   "cell_type": "markdown",
   "id": "c2ddcdaa",
   "metadata": {},
   "source": [
    "## 4. Integrasi `apply()`, `lambda`, dan `groupby()`"
   ]
  },
  {
   "cell_type": "code",
   "execution_count": 3,
   "id": "03d3ec33",
   "metadata": {},
   "outputs": [
    {
     "data": {
      "text/plain": [
       "(  nama  nilai kategori_nilai  nilai_ganda\n",
       " 0    A     80              B          160\n",
       " 1    B     90              A          180\n",
       " 2    C     85              A          170\n",
       " 3    A     70              B          140\n",
       " 4    B     75              B          150,\n",
       "   kategori_nilai nilai     \n",
       "                   mean  sum\n",
       " 0              A  87.5  175\n",
       " 1              B  75.0  225)"
      ]
     },
     "execution_count": 3,
     "metadata": {},
     "output_type": "execute_result"
    }
   ],
   "source": [
    "import pandas as pd\n",
    "\n",
    "df = pd.DataFrame({\n",
    "    'nama': ['A', 'B', 'C', 'A', 'B'],\n",
    "    'nilai': [80, 90, 85, 70, 75]\n",
    "})\n",
    "\n",
    "# Tambah kolom kategori_nilai\n",
    "df['kategori_nilai'] = df['nilai'].apply(lambda x: 'A' if x >= 85 else ('B' if x >= 70 else 'C'))\n",
    "\n",
    "# Tambah kolom nilai_ganda\n",
    "df['nilai_ganda'] = df['nilai'].apply(lambda x: x * 2)\n",
    "\n",
    "# Hitung rata-rata dan jumlah per kategori_nilai\n",
    "grouped = df.groupby('kategori_nilai').agg({\n",
    "    'nilai': ['mean', 'sum']\n",
    "}).reset_index()\n",
    "\n",
    "df, grouped"
   ]
  },
  {
   "cell_type": "markdown",
   "id": "c3c69e57",
   "metadata": {},
   "source": [
    "## 🧠 Latihan Mandiri"
   ]
  },
  {
   "cell_type": "markdown",
   "id": "fdb831a8",
   "metadata": {},
   "source": [
    "\n",
    "Gunakan DataFrame berikut untuk mengerjakan latihan:\n",
    "\n",
    "```python\n",
    "df_latihan = pd.DataFrame({\n",
    "    'siswa': ['Andi', 'Budi', 'Cici', 'Andi', 'Budi'],\n",
    "    'nilai': [80, 85, 90, 70, 75]\n",
    "})\n",
    "```\n",
    "\n",
    "1. Tambahkan kolom `kategori` berdasarkan aturan:\n",
    "   - `A` jika nilai ≥ 85\n",
    "   - `B` jika nilai 70–84\n",
    "   - `C` jika < 70\n",
    "\n",
    "2. Tambahkan kolom `nilai_x3` yang merupakan nilai × 3\n",
    "\n",
    "3. Hitung rata-rata dan jumlah nilai tiap siswa\n"
   ]
  },
  {
   "cell_type": "markdown",
   "id": "86085f36",
   "metadata": {},
   "source": []
  }
 ],
 "metadata": {
  "kernelspec": {
   "display_name": "Python 3",
   "language": "python",
   "name": "python3"
  },
  "language_info": {
   "codemirror_mode": {
    "name": "ipython",
    "version": 3
   },
   "file_extension": ".py",
   "mimetype": "text/x-python",
   "name": "python",
   "nbconvert_exporter": "python",
   "pygments_lexer": "ipython3",
   "version": "3.9.12"
  }
 },
 "nbformat": 4,
 "nbformat_minor": 5
}

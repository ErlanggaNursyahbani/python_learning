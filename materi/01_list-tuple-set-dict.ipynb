{
 "cells": [
  {
   "cell_type": "markdown",
   "id": "f5a0b912",
   "metadata": {},
   "source": [
    "## List Tuple Set Dictionary in Python\n",
    "Series belajar untuk menuju AI Engineer ✨"
   ]
  },
  {
   "cell_type": "code",
   "execution_count": 63,
   "id": "d290f337",
   "metadata": {},
   "outputs": [],
   "source": [
    "# Collection = Sekumpulan data dalam satu variabel (bukan hanya single value)\n",
    "# ------------------------------------------------------------\n",
    "# List  = [] => Ordered (berurutan), mutable (bisa diubah), bisa menyimpan duplikat\n",
    "# Set   = {} => Unordered (tidak berurutan), mutable, tidak bisa menyimpan duplikat\n",
    "# Tuple = () => Ordered, immutable (tidak bisa diubah), bisa menyimpan duplikat\n",
    "# Dict  = {key: value} => Pairing data (berpasangan), ordered (mulai Python 3.7), mutable, key harus unik\n",
    "# ------------------------------------------------------------\n",
    "# Contoh:\n",
    "# list_buah = [\"apel\", \"jeruk\", \"apel\"]\n",
    "# set_buah = {\"apel\", \"jeruk\"}  # hanya unik\n",
    "# tuple_buah = (\"apel\", \"jeruk\", \"apel\")\n",
    "# dict_buah = {\"nama\": \"apel\", \"warna\": \"merah\"}"
   ]
  },
  {
   "cell_type": "code",
   "execution_count": 64,
   "id": "72b64681",
   "metadata": {},
   "outputs": [
    {
     "name": "stdout",
     "output_type": "stream",
     "text": [
      "Apel\n"
     ]
    }
   ],
   "source": [
    "# Collection :\n",
    "buah = \"Apel\"\n",
    "print(buah)"
   ]
  },
  {
   "cell_type": "code",
   "execution_count": 65,
   "id": "97683f8b",
   "metadata": {},
   "outputs": [
    {
     "name": "stdout",
     "output_type": "stream",
     "text": [
      "1.  ['Apel', 'Bengkuang', 'Bengkuang', 'Ceri']\n",
      "2.  Apel\n",
      "3.  ['Apel', 'Bengkuang', 'Bengkuang', 'Ceri']\n",
      "4.  ['Apel', 'Bengkuang']\n",
      "5.  ['Ceri', 'Bengkuang', 'Bengkuang', 'Apel']\n",
      "6.  ['Bengkuang', 'Bengkuang']\n",
      "===============================\n",
      "Loop : \n",
      "1.  Apel\n",
      "2.  Bengkuang\n",
      "3.  Bengkuang\n",
      "4.  Ceri\n",
      "===============================\n",
      "check : \n",
      "False\n",
      "True\n"
     ]
    }
   ],
   "source": [
    "# List : \n",
    "buah_buahan = ['Apel','Bengkuang','Bengkuang','Ceri']\n",
    "print(\"1. \",buah_buahan)             # tampilkan semuanya\n",
    "print(\"2. \",buah_buahan[0])          # tampilkan index 0 (pertama)\n",
    "print(\"3. \",buah_buahan[::])         # tampilkan dari awal sampai akhir\n",
    "print(\"4. \",buah_buahan[:2])         # tampilkan dari awal lompat 2 index\n",
    "print(\"5. \",buah_buahan[::-1])       # tampilkan mundur -1 index kebelakang\n",
    "print(\"6. \",buah_buahan[1:3])        # tampilkan index 1 sampai 3 ( 2 sampai 3 )\n",
    "print(\"===============================\")\n",
    "print(\"Loop : \")\n",
    "for index,buah in enumerate(buah_buahan):\n",
    "    print(f\"{index+1}.  {buah}\")\n",
    "print(\"===============================\")\n",
    "print(\"check : \")\n",
    "print('Durian' in buah_buahan)    \n",
    "print('Ceri' in buah_buahan)    "
   ]
  },
  {
   "cell_type": "code",
   "execution_count": 67,
   "id": "8704a5aa",
   "metadata": {},
   "outputs": [
    {
     "name": "stdout",
     "output_type": "stream",
     "text": [
      "sebelum : ['Apel', 'Bengkuang', 'Bengkuang', 'Ceri']\n",
      "sesudah mengubah index-1: ['Apel', 'Bengkuangggg', 'Bengkuang', 'Ceri']\n",
      "setelah append durian : ['Apel', 'Bengkuangggg', 'Bengkuang', 'Ceri', 'Durian']\n",
      "setelah remove apel : ['Bengkuangggg', 'Bengkuang', 'Ceri', 'Durian']\n",
      "setelah insert apel di index 0 : ['Apel', 'Bengkuangggg', 'Bengkuang', 'Ceri', 'Durian']\n",
      "setelah sort ( mengurutkan ) : ['Apel', 'Bengkuang', 'Bengkuangggg', 'Ceri', 'Durian']\n",
      "setelah sort terbalik ( reverse sort ) : ['Durian', 'Ceri', 'Bengkuangggg', 'Bengkuang', 'Apel']\n",
      "setelah reverse ( sama kayak sort reverse ) : ['Durian', 'Ceri', 'Bengkuangggg', 'Bengkuang', 'Apel']\n"
     ]
    }
   ],
   "source": [
    "# List Mutable () => artinya list dapat diubah valuenya secara langsung \n",
    "buah_buahan = ['Apel','Bengkuang','Bengkuang','Ceri']  # Inisialisasi list dengan beberapa item\n",
    "print(f\"sebelum : {buah_buahan}\")  # Menampilkan list sebelum diubah\n",
    "\n",
    "buah_buahan[1] = \"Bengkuangggg\"  # Mengubah elemen di index ke-1 (Bengkuang) menjadi Bengkuangggg\n",
    "print(f\"sesudah mengubah index-1: {buah_buahan}\")  # Menampilkan list setelah perubahan\n",
    "\n",
    "buah_buahan.append('Durian')  # Menambahkan item 'Durian' ke akhir list\n",
    "print(f\"setelah append durian : {buah_buahan}\")  # Menampilkan list setelah penambahan\n",
    "\n",
    "buah_buahan.remove('Apel')  # Menghapus item 'Apel' dari list (jika ada, hanya yang pertama)\n",
    "print(f\"setelah remove apel : {buah_buahan}\")  # Menampilkan list setelah penghapusan\n",
    "\n",
    "buah_buahan.insert(0,'Apel')  # Menyisipkan 'Apel' di posisi index 0\n",
    "print(f\"setelah insert apel di index 0 : {buah_buahan}\")  # Menampilkan list setelah insert\n",
    "\n",
    "buah_buahan.sort()  # Mengurutkan list secara ascending (A-Z)\n",
    "print(f\"setelah sort ( mengurutkan ) : {buah_buahan}\")  # Menampilkan list yang sudah di-sort\n",
    "\n",
    "buah_buahan.sort(reverse=True)  # Mengurutkan list secara descending (Z-A)\n",
    "print(f\"setelah sort terbalik ( reverse sort ) : {buah_buahan}\")  # Menampilkan list descending\n",
    "\n",
    "buah_buahan.reverse()  # Membalik urutan list (tanpa mengurutkan)\n",
    "buah_buahan.reverse()  # Dibalik lagi untuk kembali ke urutan sebelumnya\n",
    "print(f\"setelah reverse ( sama kayak sort reverse ) : {buah_buahan}\")  # Menampilkan hasil setelah dua kali reverse\n"
   ]
  },
  {
   "cell_type": "code",
   "execution_count": 68,
   "id": "8469886d",
   "metadata": {},
   "outputs": [
    {
     "name": "stdout",
     "output_type": "stream",
     "text": [
      "{'Ceri', 'Apel', 'Bengkuang'}\n",
      "setelah add : {'Ceri', 'Pisang', 'Apel', 'Bengkuang'}\n",
      "setelah remove : {'Ceri', 'Apel', 'Bengkuang'}\n",
      "setelah pop : {'Apel', 'Bengkuang'}\n"
     ]
    }
   ],
   "source": [
    "# Set {} => Tidak berurut, immutable (isinya tidak bisa diubah langsung), tapi bisa add / remove, NO DUPLICATE\n",
    "buah_buahan = {'Apel','Bengkuang','Bengkuang','Ceri'}  # Membuat set dengan beberapa item (duplikat 'Bengkuang' akan otomatis dihapus)\n",
    "print(buah_buahan)  # Menampilkan isi set (urutan bisa acak dan tanpa duplikat)\n",
    "\n",
    "buah_buahan.add(\"Pisang\")  # Menambahkan 'Pisang' ke dalam set\n",
    "print(f\"setelah add : {buah_buahan}\")  # Menampilkan isi set setelah penambahan\n",
    "\n",
    "buah_buahan.remove(\"Pisang\")  # Menghapus 'Pisang' dari set (error jika item tidak ada)\n",
    "print(f\"setelah remove : {buah_buahan}\")  # Menampilkan isi set setelah penghapusan\n",
    "\n",
    "buah_buahan.pop()  # Menghapus *satu* item secara acak dari set (karena tidak ada indeks)\n",
    "print(f\"setelah pop : {buah_buahan}\")  # Menampilkan isi set setelah pop\n"
   ]
  },
  {
   "cell_type": "code",
   "execution_count": 60,
   "id": "ffab5afe",
   "metadata": {},
   "outputs": [
    {
     "name": "stdout",
     "output_type": "stream",
     "text": [
      "('Apel', 'Bengkuang', 'Bengkuang', 'Ceri')\n"
     ]
    }
   ],
   "source": [
    "# Tuple () => berurutan, tidak bisa berubah, Duplicate OK, Lebih Cepat.\n",
    "buah_buahan = ('Apel','Bengkuang','Bengkuang','Ceri')\n",
    "print(buah_buahan)\n",
    "\n",
    "# buah_buahan.add(\"Pisang\")                ---> Akan Error\n",
    "# print(f\"setelah add : {buah_buahan}\")\n",
    "\n",
    "# buah_buahan.remove(\"Pisang\")             ---> Akan Error\n",
    "# print(f\"setelah remove : {buah_buahan}\")\n",
    "\n",
    "# buah_buahan.pop()                        ---> Akan Error\n",
    "# print(f\"setelah pop : {buah_buahan}\")\n"
   ]
  }
 ],
 "metadata": {
  "kernelspec": {
   "display_name": "Python 3",
   "language": "python",
   "name": "python3"
  },
  "language_info": {
   "codemirror_mode": {
    "name": "ipython",
    "version": 3
   },
   "file_extension": ".py",
   "mimetype": "text/x-python",
   "name": "python",
   "nbconvert_exporter": "python",
   "pygments_lexer": "ipython3",
   "version": "3.9.12"
  }
 },
 "nbformat": 4,
 "nbformat_minor": 5
}

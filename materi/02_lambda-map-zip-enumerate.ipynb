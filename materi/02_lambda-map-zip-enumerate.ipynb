{
 "cells": [
  {
   "cell_type": "markdown",
   "id": "2cab387b",
   "metadata": {},
   "source": [
    "lambda =>\n",
    "\n",
    "\n",
    "map => \n",
    "\n",
    "\n",
    "zip =>\n",
    "\n",
    "\n",
    "enumerate => "
   ]
  },
  {
   "cell_type": "code",
   "execution_count": 7,
   "id": "fc7cbc30",
   "metadata": {},
   "outputs": [
    {
     "name": "stdout",
     "output_type": "stream",
     "text": [
      "Fungsi Pertambahan pakai regular function 4 + 5 : 9\n",
      "fungsi pertambahan pakai lambda 4 + 5 : 9\n",
      "[11, 12, 13, 14, 15]\n"
     ]
    }
   ],
   "source": [
    "# Lambda => \n",
    "def add(x,y):\n",
    "    return x+y\n",
    "print(f\"Fungsi Pertambahan pakai regular function 4 + 5 : {add(4,5)}\")\n",
    "\n",
    "print(f'fungsi pertambahan pakai lambda 4 + 5 : {(lambda x,y:x+y)(4,5)}')\n",
    "# lambda x:x+1 ==> maksudnya setiap input x akan ditambah dengan 1\n",
    "\n",
    "# contoh : \n",
    "angka = [1,2,3,4,5]\n",
    "hasil = list(map(lambda x: x+10, angka))\n",
    "print(hasil)"
   ]
  },
  {
   "cell_type": "code",
   "execution_count": 27,
   "id": "91b71871",
   "metadata": {},
   "outputs": [
    {
     "name": "stdout",
     "output_type": "stream",
     "text": [
      "X = [(5, 6), (6, 7), (6, 5)]\n",
      "Y = [5, 5]\n"
     ]
    }
   ],
   "source": [
    "# map => menerapkan function kedalam list,tuple,atau set,dic\n",
    "# mengembalikan value berupa map object jadi harus di tambahkan list agar jadi\n",
    "\n",
    "def length(x,y):\n",
    "    return len(x),len(y)\n",
    "\n",
    "def length2(x):\n",
    "    return len(x)\n",
    "\n",
    "x = map(length, ('apple','banana','cherry'),('durian','markisa','lemon'))\n",
    "y = map(length2,('elang','lidya'))\n",
    "\n",
    "# (apple : durian), (banana : markisa), (cherry : lemon)\n",
    "print(f\"X = {list(x)}\")\n",
    "\n",
    "# ['elang','lidya']\n",
    "print(f\"Y = {list(y)}\")"
   ]
  },
  {
   "cell_type": "code",
   "execution_count": 39,
   "id": "6b3c90b2",
   "metadata": {},
   "outputs": [
    {
     "name": "stdout",
     "output_type": "stream",
     "text": [
      "ZIP a, b, c : [('John', 'Jenny', 'elang'), ('Charles', 'Christy', 'lidya'), ('Mike', 'Monica', 'opal')]\n"
     ]
    }
   ],
   "source": [
    "a = [\"John\", \"Charles\", \"Mike\"]\n",
    "b = (\"Jenny\", \"Christy\", \"Monica\")\n",
    "c = (\"elang\",'lidya','opal')\n",
    "\n",
    "x = zip(a, b, c)\n",
    "print(f\"ZIP a, b, c : {list(x)}\")"
   ]
  },
  {
   "cell_type": "code",
   "execution_count": 47,
   "id": "5d860fb8",
   "metadata": {},
   "outputs": [
    {
     "name": "stdout",
     "output_type": "stream",
     "text": [
      "1 - Erlangga\n",
      "2 - Lidya\n",
      "3 - 5120\n",
      "4 - True\n",
      "5 - False\n",
      "6 - None\n"
     ]
    }
   ],
   "source": [
    "numbers = [\"Erlangga\",\"Lidya\",5120,True,False,None]\n",
    "for enum, number in enumerate(numbers):\n",
    "    print(f\"{enum+1} - {number}\")"
   ]
  },
  {
   "cell_type": "code",
   "execution_count": null,
   "id": "b2a6764c",
   "metadata": {},
   "outputs": [],
   "source": []
  }
 ],
 "metadata": {
  "kernelspec": {
   "display_name": "Python 3",
   "language": "python",
   "name": "python3"
  },
  "language_info": {
   "codemirror_mode": {
    "name": "ipython",
    "version": 3
   },
   "file_extension": ".py",
   "mimetype": "text/x-python",
   "name": "python",
   "nbconvert_exporter": "python",
   "pygments_lexer": "ipython3",
   "version": "3.9.12"
  }
 },
 "nbformat": 4,
 "nbformat_minor": 5
}

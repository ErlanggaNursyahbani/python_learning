{
 "cells": [
  {
   "cell_type": "markdown",
   "id": "2cab387b",
   "metadata": {},
   "source": [
    "lambda =>( lambda x: x * 2 )  artinya memasukkan fungsi x * 2.\n",
    "\n",
    "map => melakukan fungsi dengan iterasi disetiap entri, biasanya digunakan untuk list,tuple,string atau array\n",
    "\n",
    "    => map(lambda x: x * 2, tuple_angka) \n",
    "    => setiap entry dalam tuple_angka nilainya akan dimasukkan fungsi lambda x * 2.\n",
    "\n",
    "zip => menggabungkan 2 list.\n",
    " > nama = ['John', 'Jane', 'Jade']\n",
    "\n",
    " > umur = [2, 4, 6]\n",
    "\n",
    " > pasangan = zip(nama, umur)\n",
    "\n",
    "> Output: [('John', 2), ('Jane', 4), ('Jade', 6)]\n",
    "\n",
    "\n",
    "\n",
    "\n",
    "\n",
    "enumerate => \n",
    "\n",
    "fruits = ['apple', 'banana', 'cherry']\n",
    "\n",
    ">  Menggunakan start=0 (default)\n",
    "\n",
    ">  for index, fruit in enumerate(fruits):\n",
    "\n",
    ">       print(f\"Indeks: {index}, buah: {fruit}\")\n",
    "\n",
    ">Menggunakan start=1\n",
    "\n",
    "> for index, fruit in enumerate(fruits, start=1):\n",
    "\n",
    ">       print(f\"Indeks: {index}, buah: {fruit}\")"
   ]
  },
  {
   "cell_type": "code",
   "execution_count": 6,
   "id": "fc7cbc30",
   "metadata": {},
   "outputs": [
    {
     "name": "stdout",
     "output_type": "stream",
     "text": [
      "Fungsi Pertambahan pakai regular function 5 + 5 : 10\n",
      "fungsi pertambahan pakai lambda 10 + 5 : 50\n",
      "[11, 12, 13, 14, 15]\n"
     ]
    }
   ],
   "source": [
    "# Lambda => \n",
    "def add(x,y):\n",
    "    return x+y\n",
    "nilai = add(5,5)\n",
    "print(f\"Fungsi Pertambahan pakai regular function 5 + 5 : {nilai}\")\n",
    "\n",
    "nilai2 = (lambda x,y: x*y)\n",
    "print(f'fungsi pertambahan pakai lambda 10 + 5 : {nilai2(10,5)}')\n",
    "# lambda x:x+1 ==> maksudnya setiap input x akan ditambah dengan 1\n",
    "\n",
    "# contoh : \n",
    "angka = [1,2,3,4,5]\n",
    "hasil = list(map(lambda x: x+10, angka))\n",
    "print(hasil)"
   ]
  },
  {
   "cell_type": "code",
   "execution_count": null,
   "id": "91b71871",
   "metadata": {},
   "outputs": [
    {
     "name": "stdout",
     "output_type": "stream",
     "text": [
      "X = [(5, 6), (6, 7), (6, 5)]\n",
      "Y = [5, 5]\n",
      "Fungsi Add dari list angka_1 dan angka_2 [5, 5, 5, 5, 5]\n",
      "Fungsi Kuadrta dari list angka_1 [4, 4, 4, 4, 4]\n"
     ]
    }
   ],
   "source": [
    "# map => menerapkan function kedalam list,tuple,atau set,dic\n",
    "# mengembalikan value berupa map object jadi harus di tambahkan list agar jadi\n",
    "\n",
    "def length(x,y):\n",
    "    return len(x),len(y)\n",
    "\n",
    "def length2(x):\n",
    "    return len(x)\n",
    "\n",
    "def add(x,y):\n",
    "    return x+y\n",
    "\n",
    "def kuadrat(x):\n",
    "    return x*x\n",
    "\n",
    "angka_1 = [2,2,2,2,2]\n",
    "angka_2 = [3,3,3,3,3]\n",
    "hasil_pertambahan = list(map(add, angka_1,angka_2))\n",
    "hasil_kuadrat = list(map(kuadrat,angka_1))\n",
    "\n",
    "x = map(length, ('apple','banana','cherry'),('durian','markisa','lemon'))\n",
    "y = map(length2,('elang','lidya'))\n",
    "\n",
    "# (apple : durian), (banana : markisa), (cherry : lemon)\n",
    "print(f\"X = {list(x)}\")\n",
    "\n",
    "# ['elang','lidya']\n",
    "print(f\"Y = {list(y)}\")\n",
    "\n",
    "\n",
    "# angka_1 = [2,2,2,2,2] + angka_2 = [3,3,3,3,3]\n",
    "print(f'Fungsi Add dari list angka_1 dan angka_2 {hasil_pertambahan}')\n",
    "\n",
    "# angka_1 = [2,2,2,2,2] => dikuadratkan\n",
    "print(f'Fungsi Kuadrta dari list angka_1 {hasil_kuadrat}')"
   ]
  },
  {
   "cell_type": "code",
   "execution_count": 11,
   "id": "6b3c90b2",
   "metadata": {},
   "outputs": [
    {
     "name": "stdout",
     "output_type": "stream",
     "text": [
      "ZIP a, b, c : [('John', 'Jenny'), ('Charles', 'Christy'), ('Mike', 'Monica')]\n"
     ]
    }
   ],
   "source": [
    "a = [\"John\", \"Charles\", \"Mike\"]\n",
    "b = (\"Jenny\", \"Christy\", \"Monica\")\n",
    "\n",
    "x = zip(a, b)\n",
    "print(f\"ZIP a, b, c : {list(x)}\")"
   ]
  },
  {
   "cell_type": "code",
   "execution_count": 12,
   "id": "5d860fb8",
   "metadata": {},
   "outputs": [
    {
     "name": "stdout",
     "output_type": "stream",
     "text": [
      "1 - Erlangga\n",
      "2 - Lidya\n",
      "3 - 5120\n",
      "4 - True\n",
      "5 - False\n",
      "6 - None\n"
     ]
    }
   ],
   "source": [
    "numbers = [\"Erlangga\",\"Lidya\",5120,True,False,None]\n",
    "for index, number in enumerate(numbers):\n",
    "    print(f\"{index+1} - {number}\")"
   ]
  },
  {
   "cell_type": "code",
   "execution_count": null,
   "id": "b2a6764c",
   "metadata": {},
   "outputs": [],
   "source": []
  }
 ],
 "metadata": {
  "kernelspec": {
   "display_name": "Python 3",
   "language": "python",
   "name": "python3"
  },
  "language_info": {
   "codemirror_mode": {
    "name": "ipython",
    "version": 3
   },
   "file_extension": ".py",
   "mimetype": "text/x-python",
   "name": "python",
   "nbconvert_exporter": "python",
   "pygments_lexer": "ipython3",
   "version": "3.9.12"
  }
 },
 "nbformat": 4,
 "nbformat_minor": 5
}

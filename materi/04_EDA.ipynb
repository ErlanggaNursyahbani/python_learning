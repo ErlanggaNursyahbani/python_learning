{
 "cells": [
  {
   "cell_type": "code",
   "execution_count": null,
   "id": "b7d46e9b",
   "metadata": {},
   "outputs": [
    {
     "name": "stderr",
     "output_type": "stream",
     "text": [
      "C:\\Users\\62857\\AppData\\Local\\Temp\\ipykernel_13588\\442925738.py:3: DtypeWarning: Columns (26) have mixed types. Specify dtype option on import or set low_memory=False.\n",
      "  df = pd.read_csv('../datasets/train.csv')\n"
     ]
    }
   ],
   "source": [
    "import pandas as pd\n",
    "\n",
    "\n",
    "df = pd.read_csv('../datasets/train.csv')\n",
    "\n",
    "# drop kolom yang kurang relevan untuk train model\n",
    "drop_columns = ['Name','ID','Customer_ID','Month','SSN']\n",
    "df.drop(drop_columns, axis=1, inplace=True)\n",
    "\n"
   ]
  },
  {
   "cell_type": "code",
   "execution_count": null,
   "id": "ac838c82",
   "metadata": {
    "vscode": {
     "languageId": "javascript"
    }
   },
   "outputs": [],
   "source": [
    "// astype : digunakan untuk mengubah tipe data kolom tertentu menjadi tipe data lain\n",
    "// Contoh: mengubah kolom 'Occupation' menjadi tipe data 'category'\n",
    "// kemudian diubah menjadi kode numerik dengan .cat.codes\n",
    "\n",
    "// kenapa gak langsung menjadi int ?\n",
    "// Karena tipe data 'category' memungkinkan kita untuk mengelompokkan data dengan lebih efisien,\n",
    "// dan .cat.codes mengubah kategori tersebut menjadi representasi numerik yang lebih mudah digunakan dalam analisis data.\n",
    "// saat membangun model machine learning juga terpengaruh, karena kalau langsung menjadi int\n",
    "// akan menganggap bahwa kategori tersebut memiliki urutan atau nilai numerik,\n",
    "\n",
    "astype_columns = [\n",
    "    'Occupation',\n",
    "    'Credit_Mix',\n",
    "    'Payment_of_Min_Amount',\n",
    "    'Payment_Behaviour',\n",
    "    'Credit_Score'\n",
    "    ]\n",
    "for col in astype_columns:\n",
    "    df[col] = df[col].astype('category')\n",
    "    df[col] = df[col].cat.codes"
   ]
  },
  {
   "cell_type": "code",
   "execution_count": 57,
   "id": "0972940f",
   "metadata": {
    "vscode": {
     "languageId": "javascript"
    }
   },
   "outputs": [
    {
     "name": "stdout",
     "output_type": "stream",
     "text": [
      "<class 'pandas.core.frame.DataFrame'>\n",
      "RangeIndex: 100000 entries, 0 to 99999\n",
      "Data columns (total 23 columns):\n",
      " #   Column                    Non-Null Count   Dtype  \n",
      "---  ------                    --------------   -----  \n",
      " 0   Age                       100000 non-null  object \n",
      " 1   Occupation                100000 non-null  int8   \n",
      " 2   Annual_Income             100000 non-null  object \n",
      " 3   Monthly_Inhand_Salary     84998 non-null   float64\n",
      " 4   Num_Bank_Accounts         100000 non-null  int64  \n",
      " 5   Num_Credit_Card           100000 non-null  int64  \n",
      " 6   Interest_Rate             100000 non-null  int64  \n",
      " 7   Num_of_Loan               100000 non-null  object \n",
      " 8   Type_of_Loan              88592 non-null   object \n",
      " 9   Delay_from_due_date       100000 non-null  int64  \n",
      " 10  Num_of_Delayed_Payment    92998 non-null   object \n",
      " 11  Changed_Credit_Limit      100000 non-null  object \n",
      " 12  Num_Credit_Inquiries      98035 non-null   float64\n",
      " 13  Credit_Mix                100000 non-null  int8   \n",
      " 14  Outstanding_Debt          100000 non-null  object \n",
      " 15  Credit_Utilization_Ratio  100000 non-null  float64\n",
      " 16  Credit_History_Age        90970 non-null   object \n",
      " 17  Payment_of_Min_Amount     100000 non-null  int8   \n",
      " 18  Total_EMI_per_month       100000 non-null  float64\n",
      " 19  Amount_invested_monthly   95521 non-null   object \n",
      " 20  Payment_Behaviour         100000 non-null  int8   \n",
      " 21  Monthly_Balance           98800 non-null   object \n",
      " 22  Credit_Score              100000 non-null  int8   \n",
      "dtypes: float64(4), int64(4), int8(5), object(10)\n",
      "memory usage: 14.2+ MB\n"
     ]
    }
   ],
   "source": [
    "df.info()"
   ]
  },
  {
   "cell_type": "code",
   "execution_count": null,
   "id": "f84f371b",
   "metadata": {},
   "outputs": [
    {
     "name": "stdout",
     "output_type": "stream",
     "text": [
      "<class 'pandas.core.frame.DataFrame'>\n",
      "RangeIndex: 100000 entries, 0 to 99999\n",
      "Data columns (total 23 columns):\n",
      " #   Column                    Non-Null Count   Dtype  \n",
      "---  ------                    --------------   -----  \n",
      " 0   Age                       95061 non-null   float64\n",
      " 1   Occupation                100000 non-null  int8   \n",
      " 2   Annual_Income             93020 non-null   float64\n",
      " 3   Monthly_Inhand_Salary     84998 non-null   float64\n",
      " 4   Num_Bank_Accounts         100000 non-null  int64  \n",
      " 5   Num_Credit_Card           100000 non-null  int64  \n",
      " 6   Interest_Rate             100000 non-null  int64  \n",
      " 7   Num_of_Loan               95215 non-null   float64\n",
      " 8   Type_of_Loan              88592 non-null   object \n",
      " 9   Delay_from_due_date       100000 non-null  int64  \n",
      " 10  Num_of_Delayed_Payment    90254 non-null   float64\n",
      " 11  Changed_Credit_Limit      97909 non-null   float64\n",
      " 12  Num_Credit_Inquiries      98035 non-null   float64\n",
      " 13  Credit_Mix                100000 non-null  int8   \n",
      " 14  Outstanding_Debt          98991 non-null   float64\n",
      " 15  Credit_Utilization_Ratio  100000 non-null  float64\n",
      " 16  Credit_History_Age        90970 non-null   object \n",
      " 17  Payment_of_Min_Amount     100000 non-null  int8   \n",
      " 18  Total_EMI_per_month       100000 non-null  float64\n",
      " 19  Amount_invested_monthly   91216 non-null   float64\n",
      " 20  Payment_Behaviour         100000 non-null  int8   \n",
      " 21  Monthly_Balance           98791 non-null   float64\n",
      " 22  Credit_Score              100000 non-null  int8   \n",
      "dtypes: float64(12), int64(4), int8(5), object(2)\n",
      "memory usage: 14.2+ MB\n"
     ]
    }
   ],
   "source": [
    "# pd.to_numeric untuk mengubah kolom yang isinya sudah numerik menjadi tipe data numerik\n",
    "# contoh : tipe data string padahal valuenya : '2'\n",
    "# pakai to_numeric untuk mengubahnya menjadi tipe data numerik\n",
    "# jika ada yang tidak bisa diubah, akan menjadi NaN\n",
    "\n",
    "cols_to_numeric = [\n",
    "    'Age',\n",
    "    'Annual_Income',\n",
    "    'Num_of_Loan',\n",
    "    'Num_of_Delayed_Payment',\n",
    "    'Changed_Credit_Limit',\n",
    "    'Num_Credit_Inquiries',\n",
    "    'Outstanding_Debt',\n",
    "    'Credit_Utilization_Ratio',\n",
    "    'Total_EMI_per_month',\n",
    "    'Amount_invested_monthly',\n",
    "    'Monthly_Balance',\n",
    "]\n",
    "\n",
    "for col in cols_to_numeric:\n",
    "    df[col] = pd.to_numeric(df[col], errors='coerce')\n",
    "    \n",
    "df.info()"
   ]
  },
  {
   "cell_type": "markdown",
   "id": "f2aa3467",
   "metadata": {},
   "source": [
    "### Note Pelajaran\n",
    "\n",
    "nanti dilanjut dengan cara : \n",
    "1. Ubah dulu semua tipe data menjadi numerik (int / float) ✅\n",
    "2. Cek Missing Value dan pilih median atau mean berdasarkan skewness nya \n",
    "3. skewness kanan ( miring kanan pakai median ) dan skewess kiri pakai mean\n",
    "4. missing value sudah hilang semua && tipe data sudah numerik semua\n",
    "5. drop kolom yang korelasinya rendah untuk kebutuhan training\n",
    "6. training dengan xgboost"
   ]
  },
  {
   "cell_type": "markdown",
   "id": "7337fb7c",
   "metadata": {},
   "source": [
    "### Progress : \n",
    "* Lagi mengerjakan nomor 1 diatas, sisa cara mengubah type_of_loan ( karena multikelas ), dan credit history age karena formatnya XX Years And XX Months"
   ]
  },
  {
   "cell_type": "code",
   "execution_count": null,
   "id": "067f4b91",
   "metadata": {},
   "outputs": [],
   "source": []
  },
  {
   "cell_type": "markdown",
   "id": "cf4a0284",
   "metadata": {},
   "source": []
  }
 ],
 "metadata": {
  "kernelspec": {
   "display_name": "Python 3",
   "language": "python",
   "name": "python3"
  },
  "language_info": {
   "codemirror_mode": {
    "name": "ipython",
    "version": 3
   },
   "file_extension": ".py",
   "mimetype": "text/x-python",
   "name": "python",
   "nbconvert_exporter": "python",
   "pygments_lexer": "ipython3",
   "version": "3.12.4"
  }
 },
 "nbformat": 4,
 "nbformat_minor": 5
}
